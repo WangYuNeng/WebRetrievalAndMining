{
 "cells": [
  {
   "cell_type": "code",
   "execution_count": 1,
   "metadata": {},
   "outputs": [
    {
     "data": {
      "text/plain": [
       "\"\\nAlgorithm flow\\n\\nwhile not converged:\\n    take s1[idx of positive example], s2[C1*len(s2) negative example], target[1...1,0...0]\\n    get the user's item_vec from model and extract s1, s2 part as model's output\\n    calculate loss (BCEWithLogitsLoss)\\n    update model\\n    \\n\\nISSUE: \\n1. Batch?\\n2. Validation set?\\n\\n\""
      ]
     },
     "execution_count": 1,
     "metadata": {},
     "output_type": "execute_result"
    }
   ],
   "source": [
    "\"\"\"\n",
    "Algorithm flow\n",
    "\n",
    "while not converged:\n",
    "    take s1[idx of positive example], s2[C1*len(s2) negative example], target[1...1,0...0]\n",
    "    get the user's item_vec from model and extract s1, s2 part as model's output\n",
    "    calculate loss (BCEWithLogitsLoss)\n",
    "    update model\n",
    "    \n",
    "\n",
    "ISSUE: \n",
    "1. Batch?\n",
    "2. Validation set?\n",
    "\n",
    "\"\"\""
   ]
  },
  {
   "cell_type": "code",
   "execution_count": 2,
   "metadata": {},
   "outputs": [],
   "source": [
    "\"\"\"\n",
    "Params\n",
    "\"\"\"\n",
    "\n",
    "train_file = \"../dataset/train.csv\"\n"
   ]
  },
  {
   "cell_type": "code",
   "execution_count": 3,
   "metadata": {},
   "outputs": [
    {
     "name": "stdout",
     "output_type": "stream",
     "text": [
      "True\n"
     ]
    }
   ],
   "source": [
    "\"\"\"Use gpu\"\"\"\n",
    "import torch\n",
    "print(torch.cuda.is_available())\n",
    "torch.cuda.set_device(0)\n",
    "torch.set_default_tensor_type('torch.cuda.FloatTensor')"
   ]
  },
  {
   "cell_type": "code",
   "execution_count": 3,
   "metadata": {},
   "outputs": [],
   "source": [
    "\"\"\"\n",
    "PIR_Dataset\n",
    "\"\"\"\n",
    "import torch\n",
    "from torch.utils.data import Dataset\n",
    "import pandas as pd\n",
    "from random import sample, shuffle\n",
    "\n",
    "C1 = 1\n",
    "\n",
    "class PIR_Dataset(Dataset):\n",
    "\n",
    "    def __init__(self, csv_file, valid_split=0.1):\n",
    "        user_dataframe = pd.read_csv(csv_file)\n",
    "        self.train_lists, self.valid_lists = self._get_pos_lists(user_dataframe, valid_split)\n",
    "        self.num_items = max([max(l) for l in self.train_lists])+1\n",
    "        self.num_users = len(self.train_lists)\n",
    "        self.neg_lists = self._get_neg_lists()\n",
    "        self.train_targets, self.valid_targets = self._get_targets()\n",
    "        self.is_train = True\n",
    "        \n",
    "    def set_is_train(self, is_train):\n",
    "        self.is_train = is_train\n",
    "    \n",
    "    def __len__(self):\n",
    "        return len(self.train_lists)\n",
    "\n",
    "    def __getitem__(self, idx):\n",
    "        if self.is_train == True:\n",
    "            s1 = self.train_lists[idx]\n",
    "            s2 = sample(self.neg_lists[idx], C1*len(self.train_lists[idx]))\n",
    "            return s1, s2, self.train_targets[idx]\n",
    "        else:\n",
    "            # might sample neg_data from validation set but ignore for now\n",
    "            s1 = self.valid_lists[idx]\n",
    "            s2 = sample(self.neg_lists[idx], C1*len(self.valid_lists[idx]))\n",
    "            return s1, s2, self.valid_targets[idx]\n",
    "    \n",
    "    def _get_pos_lists(self, df, valid_split):\n",
    "        tot_lists = [list(map(int, item_str.split())) for item_str in df[\"ItemId\"]]\n",
    "        train_lists, valid_lists = [], []\n",
    "        for l in tot_lists:\n",
    "            shuffle(l)\n",
    "            idx = int(len(l)*valid_split) + 1\n",
    "            valid_lists.append(sorted(l[:idx]))\n",
    "            train_lists.append(sorted(l[idx:]))\n",
    "        return train_lists, valid_lists\n",
    "    \n",
    "    def _get_neg_lists(self):\n",
    "        neg_lists = [[] for _ in range(self.num_users)]\n",
    "        for user_id in range(self.num_users):\n",
    "            pos_iter = 0\n",
    "            for item_id in range(self.num_items):\n",
    "                if item_id == self.train_lists[user_id][pos_iter]:\n",
    "                    pos_iter += (pos_iter != len(self.train_lists[user_id])-1)\n",
    "                else:\n",
    "                    neg_lists[user_id].append(item_id)\n",
    "        return neg_lists\n",
    "    \n",
    "    def _get_targets(self):\n",
    "        return [torch.cat((torch.ones(len(l)), torch.zeros(C1*len(l)))) for l in self.train_lists], \\\n",
    "                [torch.cat((torch.ones(len(l)), torch.zeros(C1*len(l)))) for l in self.valid_lists]\n",
    "    "
   ]
  },
  {
   "cell_type": "code",
   "execution_count": 4,
   "metadata": {},
   "outputs": [],
   "source": [
    "\"\"\"\n",
    "PIR_Model\n",
    "\"\"\"\n",
    "import torch\n",
    "\n",
    "NUM_TOPICS = 256\n",
    "\n",
    "class PIR_Model(torch.nn.Module):\n",
    "    \n",
    "    def __init__(self, num_users, num_items, topics=NUM_TOPICS):\n",
    "        super().__init__()\n",
    "        self.user_matrix = torch.randn((num_users, topics), requires_grad=True)\n",
    "        self.item_matrix = torch.randn((topics, num_items), requires_grad=True)\n",
    "        self.item_bias = torch.randn((num_items,), requires_grad=True)\n",
    "        \n",
    "    def forward(self, user_id, pos_idx, neg_idx):\n",
    "        pos_tensor = torch.matmul(self.user_matrix[user_id], self.item_matrix[:,pos_idx]) + self.item_bias[pos_idx]\n",
    "        neg_tensor = torch.matmul(self.user_matrix[user_id], self.item_matrix[:,neg_idx]) + self.item_bias[neg_idx]\n",
    "        if pos_tensor.dim() == 1:\n",
    "            return torch.cat((pos_tensor, neg_tensor))\n",
    "        else:\n",
    "            return torch.cat((pos_tensor, neg_tensor), axis=1)\n",
    "    "
   ]
  },
  {
   "cell_type": "code",
   "execution_count": 5,
   "metadata": {},
   "outputs": [],
   "source": [
    "\"\"\"\n",
    "PIR_Loss\n",
    "\"\"\"\n",
    "\n",
    "\n",
    "\n",
    "class BPR_Loss(torch.nn.Module):\n",
    "\n",
    "    def __init__(self):\n",
    "        super().__init__()\n",
    "        self.m = torch.nn.LogSigmoid()\n",
    "    \n",
    "    def forward(self, x, y):\n",
    "        pos = x[:len(x)//2]\n",
    "        neg = x[len(x)//2:]\n",
    "        return -torch.mean(self.m((pos-neg)))\n",
    "    "
   ]
  },
  {
   "cell_type": "code",
   "execution_count": 47,
   "metadata": {},
   "outputs": [
    {
     "name": "stdout",
     "output_type": "stream",
     "text": [
      "0.3304835278205502\n"
     ]
    }
   ],
   "source": [
    "\"\"\"\n",
    "Calculate F1/MAP score\n",
    "\"\"\"\n",
    "\n",
    "import numpy as np\n",
    "import random\n",
    "\n",
    "def calc_score(dataset, model):\n",
    "    with torch.no_grad():\n",
    "        matrix = torch.matmul(model.user_matrix, model.item_matrix).cpu().detach().numpy()\n",
    "        sum_AP = 0\n",
    "        for i, row in enumerate(matrix):\n",
    "            if dataset.is_train:\n",
    "                golden_set = set(dataset.train_lists[i])\n",
    "            else:\n",
    "                golden_set = set(dataset.valid_lists[i])\n",
    "                row[dataset.train_lists[i]] = np.min(row)\n",
    "            rank = np.flip(np.argsort(row))\n",
    "            n_recom = 50\n",
    "            AP = 0\n",
    "            true_pos = 0\n",
    "            # use all pos (including test data) to calculate MAP (?)\n",
    "            n_pos = int((len(dataset.train_lists[i]) + len(dataset.valid_lists[i]))/0.89)\n",
    "            for i, idx in enumerate(rank[:n_recom]):\n",
    "                if idx in golden_set:\n",
    "                    true_pos += 1\n",
    "                    AP += (true_pos/(i+1))/n_pos\n",
    "            sum_AP += AP\n",
    "    return sum_AP/len(dataset)\n",
    "\"\"\"\n",
    "torch.manual_seed(66)\n",
    "random.seed(66)\n",
    "dataset = PIR_Dataset(train_file, 0.1)\n",
    "dataset.is_train = True\n",
    "user_file = \"../model/user0.196863.pt\"\n",
    "item_file = \"../model/item0.196863.pt\"\n",
    "model = PIR_Model(dataset.num_users, dataset.num_items)\n",
    "model.user_matrix = torch.load(user_file)\n",
    "model.item_matrix = torch.load(item_file)\n",
    "print(calc_score(dataset, model))\n",
    "\"\"\"\"\"\""
   ]
  },
  {
   "cell_type": "code",
   "execution_count": 24,
   "metadata": {
    "scrolled": true
   },
   "outputs": [
    {
     "name": "stdout",
     "output_type": "stream",
     "text": [
      "training...\n"
     ]
    },
    {
     "name": "stderr",
     "output_type": "stream",
     "text": [
      "100%|█████████████████████████████████████████| 4454/4454 [00:32<00:00, 136.41it/s]\n"
     ]
    },
    {
     "name": "stdout",
     "output_type": "stream",
     "text": [
      "validating...\n"
     ]
    },
    {
     "name": "stderr",
     "output_type": "stream",
     "text": [
      "100%|█████████████████████████████████████████| 4454/4454 [00:07<00:00, 581.04it/s]\n"
     ]
    },
    {
     "name": "stdout",
     "output_type": "stream",
     "text": [
      "iter 0: training loss=1.6217548194812668, validation loss=1.5775860477620205\n",
      "\n",
      "training...\n"
     ]
    },
    {
     "name": "stderr",
     "output_type": "stream",
     "text": [
      "100%|█████████████████████████████████████████| 4454/4454 [00:37<00:00, 119.24it/s]\n"
     ]
    },
    {
     "name": "stdout",
     "output_type": "stream",
     "text": [
      "validating...\n"
     ]
    },
    {
     "name": "stderr",
     "output_type": "stream",
     "text": [
      "100%|█████████████████████████████████████████| 4454/4454 [00:08<00:00, 540.35it/s]\n"
     ]
    },
    {
     "name": "stdout",
     "output_type": "stream",
     "text": [
      "iter 1: training loss=1.4668522855266093, validation loss=1.5279098685778965\n",
      "\n",
      "training...\n"
     ]
    },
    {
     "name": "stderr",
     "output_type": "stream",
     "text": [
      "100%|█████████████████████████████████████████| 4454/4454 [00:37<00:00, 119.38it/s]\n"
     ]
    },
    {
     "name": "stdout",
     "output_type": "stream",
     "text": [
      "validating...\n"
     ]
    },
    {
     "name": "stderr",
     "output_type": "stream",
     "text": [
      "100%|█████████████████████████████████████████| 4454/4454 [00:10<00:00, 405.49it/s]\n"
     ]
    },
    {
     "name": "stdout",
     "output_type": "stream",
     "text": [
      "iter 2: training loss=1.3219534629729226, validation loss=1.4608534246893758\n",
      "\n",
      "training...\n"
     ]
    },
    {
     "name": "stderr",
     "output_type": "stream",
     "text": [
      "100%|█████████████████████████████████████████| 4454/4454 [00:42<00:00, 104.49it/s]\n"
     ]
    },
    {
     "name": "stdout",
     "output_type": "stream",
     "text": [
      "validating...\n"
     ]
    },
    {
     "name": "stderr",
     "output_type": "stream",
     "text": [
      "100%|█████████████████████████████████████████| 4454/4454 [00:08<00:00, 525.90it/s]\n"
     ]
    },
    {
     "name": "stdout",
     "output_type": "stream",
     "text": [
      "iter 3: training loss=1.1863312087618534, validation loss=1.4048646048168767\n",
      "\n",
      "training...\n"
     ]
    },
    {
     "name": "stderr",
     "output_type": "stream",
     "text": [
      "100%|█████████████████████████████████████████| 4454/4454 [00:34<00:00, 130.72it/s]\n"
     ]
    },
    {
     "name": "stdout",
     "output_type": "stream",
     "text": [
      "validating...\n"
     ]
    },
    {
     "name": "stderr",
     "output_type": "stream",
     "text": [
      "100%|█████████████████████████████████████████| 4454/4454 [00:07<00:00, 573.42it/s]\n"
     ]
    },
    {
     "name": "stdout",
     "output_type": "stream",
     "text": [
      "iter 4: training loss=1.0633735688220078, validation loss=1.3298278915629012\n",
      "\n",
      "training...\n"
     ]
    },
    {
     "name": "stderr",
     "output_type": "stream",
     "text": [
      "100%|█████████████████████████████████████████| 4454/4454 [00:34<00:00, 129.47it/s]\n"
     ]
    },
    {
     "name": "stdout",
     "output_type": "stream",
     "text": [
      "validating...\n"
     ]
    },
    {
     "name": "stderr",
     "output_type": "stream",
     "text": [
      "100%|█████████████████████████████████████████| 4454/4454 [00:07<00:00, 557.62it/s]\n"
     ]
    },
    {
     "name": "stdout",
     "output_type": "stream",
     "text": [
      "iter 5: training loss=0.9192286016688012, validation loss=1.18978044054471\n",
      "\n",
      "training...\n"
     ]
    },
    {
     "name": "stderr",
     "output_type": "stream",
     "text": [
      "100%|█████████████████████████████████████████| 4454/4454 [00:34<00:00, 130.05it/s]\n"
     ]
    },
    {
     "name": "stdout",
     "output_type": "stream",
     "text": [
      "validating...\n"
     ]
    },
    {
     "name": "stderr",
     "output_type": "stream",
     "text": [
      "100%|█████████████████████████████████████████| 4454/4454 [00:08<00:00, 504.37it/s]\n"
     ]
    },
    {
     "name": "stdout",
     "output_type": "stream",
     "text": [
      "iter 6: training loss=0.7736241694892743, validation loss=1.0388876781655993\n",
      "\n",
      "training...\n"
     ]
    },
    {
     "name": "stderr",
     "output_type": "stream",
     "text": [
      "100%|█████████████████████████████████████████| 4454/4454 [00:36<00:00, 123.45it/s]\n"
     ]
    },
    {
     "name": "stdout",
     "output_type": "stream",
     "text": [
      "validating...\n"
     ]
    },
    {
     "name": "stderr",
     "output_type": "stream",
     "text": [
      "100%|█████████████████████████████████████████| 4454/4454 [00:09<00:00, 477.28it/s]\n"
     ]
    },
    {
     "name": "stdout",
     "output_type": "stream",
     "text": [
      "iter 7: training loss=0.6216919997587406, validation loss=0.8983222126094429\n",
      "\n",
      "training...\n"
     ]
    },
    {
     "name": "stderr",
     "output_type": "stream",
     "text": [
      "100%|██████████████████████████████████████████| 4454/4454 [00:45<00:00, 96.92it/s]\n"
     ]
    },
    {
     "name": "stdout",
     "output_type": "stream",
     "text": [
      "validating...\n"
     ]
    },
    {
     "name": "stderr",
     "output_type": "stream",
     "text": [
      "100%|█████████████████████████████████████████| 4454/4454 [00:08<00:00, 517.72it/s]\n"
     ]
    },
    {
     "name": "stdout",
     "output_type": "stream",
     "text": [
      "iter 8: training loss=0.5006579540905781, validation loss=0.7895211712492823\n",
      "\n",
      "training...\n"
     ]
    },
    {
     "name": "stderr",
     "output_type": "stream",
     "text": [
      "100%|██████████████████████████████████████████| 4454/4454 [00:47<00:00, 92.81it/s]\n"
     ]
    },
    {
     "name": "stdout",
     "output_type": "stream",
     "text": [
      "validating...\n"
     ]
    },
    {
     "name": "stderr",
     "output_type": "stream",
     "text": [
      "100%|█████████████████████████████████████████| 4454/4454 [00:17<00:00, 260.67it/s]\n"
     ]
    },
    {
     "name": "stdout",
     "output_type": "stream",
     "text": [
      "iter 9: training loss=0.4035949996035031, validation loss=0.7040074361741516\n",
      "\n",
      "training...\n"
     ]
    },
    {
     "name": "stderr",
     "output_type": "stream",
     "text": [
      "100%|█████████████████████████████████████████| 4454/4454 [00:40<00:00, 110.95it/s]\n"
     ]
    },
    {
     "name": "stdout",
     "output_type": "stream",
     "text": [
      "validating...\n"
     ]
    },
    {
     "name": "stderr",
     "output_type": "stream",
     "text": [
      "100%|█████████████████████████████████████████| 4454/4454 [00:09<00:00, 476.86it/s]\n"
     ]
    },
    {
     "name": "stdout",
     "output_type": "stream",
     "text": [
      "iter 10: training loss=0.3390468520599116, validation loss=0.622198081447732\n",
      "\n",
      "training...\n"
     ]
    },
    {
     "name": "stderr",
     "output_type": "stream",
     "text": [
      "100%|█████████████████████████████████████████| 4454/4454 [00:40<00:00, 111.29it/s]\n"
     ]
    },
    {
     "name": "stdout",
     "output_type": "stream",
     "text": [
      "validating...\n"
     ]
    },
    {
     "name": "stderr",
     "output_type": "stream",
     "text": [
      "100%|█████████████████████████████████████████| 4454/4454 [00:08<00:00, 506.62it/s]\n"
     ]
    },
    {
     "name": "stdout",
     "output_type": "stream",
     "text": [
      "iter 11: training loss=0.2890980520362405, validation loss=0.5627782155855403\n",
      "\n",
      "training...\n"
     ]
    },
    {
     "name": "stderr",
     "output_type": "stream",
     "text": [
      "100%|█████████████████████████████████████████| 4454/4454 [00:42<00:00, 105.71it/s]\n"
     ]
    },
    {
     "name": "stdout",
     "output_type": "stream",
     "text": [
      "validating...\n"
     ]
    },
    {
     "name": "stderr",
     "output_type": "stream",
     "text": [
      "100%|█████████████████████████████████████████| 4454/4454 [00:08<00:00, 534.32it/s]\n"
     ]
    },
    {
     "name": "stdout",
     "output_type": "stream",
     "text": [
      "iter 12: training loss=0.25389209473472163, validation loss=0.5150779192079588\n",
      "\n",
      "training...\n"
     ]
    },
    {
     "name": "stderr",
     "output_type": "stream",
     "text": [
      "100%|█████████████████████████████████████████| 4454/4454 [00:36<00:00, 122.95it/s]\n"
     ]
    },
    {
     "name": "stdout",
     "output_type": "stream",
     "text": [
      "validating...\n"
     ]
    },
    {
     "name": "stderr",
     "output_type": "stream",
     "text": [
      "100%|█████████████████████████████████████████| 4454/4454 [00:14<00:00, 303.69it/s]\n"
     ]
    },
    {
     "name": "stdout",
     "output_type": "stream",
     "text": [
      "iter 13: training loss=0.22407812250382467, validation loss=0.4843094636171601\n",
      "\n",
      "training...\n"
     ]
    },
    {
     "name": "stderr",
     "output_type": "stream",
     "text": [
      "100%|█████████████████████████████████████████| 4454/4454 [00:39<00:00, 113.95it/s]\n"
     ]
    },
    {
     "name": "stdout",
     "output_type": "stream",
     "text": [
      "validating...\n"
     ]
    },
    {
     "name": "stderr",
     "output_type": "stream",
     "text": [
      "100%|█████████████████████████████████████████| 4454/4454 [00:08<00:00, 521.11it/s]\n"
     ]
    },
    {
     "name": "stdout",
     "output_type": "stream",
     "text": [
      "iter 14: training loss=0.20334563778068696, validation loss=0.45050248399965437\n",
      "\n",
      "training...\n"
     ]
    },
    {
     "name": "stderr",
     "output_type": "stream",
     "text": [
      "100%|█████████████████████████████████████████| 4454/4454 [00:35<00:00, 125.82it/s]\n"
     ]
    },
    {
     "name": "stdout",
     "output_type": "stream",
     "text": [
      "validating...\n"
     ]
    },
    {
     "name": "stderr",
     "output_type": "stream",
     "text": [
      "100%|█████████████████████████████████████████| 4454/4454 [00:08<00:00, 507.68it/s]\n"
     ]
    },
    {
     "name": "stdout",
     "output_type": "stream",
     "text": [
      "iter 15: training loss=0.18725851027007065, validation loss=0.42506419148213564\n",
      "\n",
      "training...\n"
     ]
    },
    {
     "name": "stderr",
     "output_type": "stream",
     "text": [
      "100%|█████████████████████████████████████████| 4454/4454 [00:37<00:00, 117.25it/s]\n"
     ]
    },
    {
     "name": "stdout",
     "output_type": "stream",
     "text": [
      "validating...\n"
     ]
    },
    {
     "name": "stderr",
     "output_type": "stream",
     "text": [
      "100%|█████████████████████████████████████████| 4454/4454 [00:08<00:00, 499.67it/s]\n"
     ]
    },
    {
     "name": "stdout",
     "output_type": "stream",
     "text": [
      "iter 16: training loss=0.17518341281893737, validation loss=0.39939708850512035\n",
      "\n",
      "training...\n"
     ]
    },
    {
     "name": "stderr",
     "output_type": "stream",
     "text": [
      "100%|█████████████████████████████████████████| 4454/4454 [00:37<00:00, 117.89it/s]\n"
     ]
    },
    {
     "name": "stdout",
     "output_type": "stream",
     "text": [
      "validating...\n"
     ]
    },
    {
     "name": "stderr",
     "output_type": "stream",
     "text": [
      "100%|█████████████████████████████████████████| 4454/4454 [00:09<00:00, 489.93it/s]\n"
     ]
    },
    {
     "name": "stdout",
     "output_type": "stream",
     "text": [
      "iter 17: training loss=0.16208721048614327, validation loss=0.3786516837120835\n",
      "\n",
      "training...\n"
     ]
    },
    {
     "name": "stderr",
     "output_type": "stream",
     "text": [
      "100%|█████████████████████████████████████████| 4454/4454 [00:37<00:00, 118.17it/s]\n"
     ]
    },
    {
     "name": "stdout",
     "output_type": "stream",
     "text": [
      "validating...\n"
     ]
    },
    {
     "name": "stderr",
     "output_type": "stream",
     "text": [
      "100%|█████████████████████████████████████████| 4454/4454 [00:08<00:00, 506.01it/s]\n"
     ]
    },
    {
     "name": "stdout",
     "output_type": "stream",
     "text": [
      "iter 18: training loss=0.15253366790021594, validation loss=0.3449664248587153\n",
      "\n",
      "training...\n"
     ]
    },
    {
     "name": "stderr",
     "output_type": "stream",
     "text": [
      "100%|█████████████████████████████████████████| 4454/4454 [00:37<00:00, 118.47it/s]\n"
     ]
    },
    {
     "name": "stdout",
     "output_type": "stream",
     "text": [
      "validating...\n"
     ]
    },
    {
     "name": "stderr",
     "output_type": "stream",
     "text": [
      "100%|█████████████████████████████████████████| 4454/4454 [00:09<00:00, 460.52it/s]\n"
     ]
    },
    {
     "name": "stdout",
     "output_type": "stream",
     "text": [
      "iter 19: training loss=0.14564369775922667, validation loss=0.33639412855294226\n",
      "\n",
      "training...\n"
     ]
    },
    {
     "name": "stderr",
     "output_type": "stream",
     "text": [
      "100%|█████████████████████████████████████████| 4454/4454 [00:37<00:00, 119.59it/s]\n"
     ]
    },
    {
     "name": "stdout",
     "output_type": "stream",
     "text": [
      "validating...\n"
     ]
    },
    {
     "name": "stderr",
     "output_type": "stream",
     "text": [
      "100%|█████████████████████████████████████████| 4454/4454 [00:10<00:00, 427.44it/s]\n"
     ]
    },
    {
     "name": "stdout",
     "output_type": "stream",
     "text": [
      "iter 20: training loss=0.13754286962271917, validation loss=0.31891907643563455\n",
      "\n",
      "training...\n"
     ]
    },
    {
     "name": "stderr",
     "output_type": "stream",
     "text": [
      "100%|█████████████████████████████████████████| 4454/4454 [00:42<00:00, 105.77it/s]\n"
     ]
    },
    {
     "name": "stdout",
     "output_type": "stream",
     "text": [
      "validating...\n"
     ]
    },
    {
     "name": "stderr",
     "output_type": "stream",
     "text": [
      "100%|█████████████████████████████████████████| 4454/4454 [00:08<00:00, 497.28it/s]\n"
     ]
    },
    {
     "name": "stdout",
     "output_type": "stream",
     "text": [
      "iter 21: training loss=0.13100512031149822, validation loss=0.3017358367947138\n",
      "\n",
      "training...\n"
     ]
    },
    {
     "name": "stderr",
     "output_type": "stream",
     "text": [
      "100%|█████████████████████████████████████████| 4454/4454 [00:37<00:00, 119.73it/s]\n"
     ]
    },
    {
     "name": "stdout",
     "output_type": "stream",
     "text": [
      "validating...\n"
     ]
    },
    {
     "name": "stderr",
     "output_type": "stream",
     "text": [
      "100%|█████████████████████████████████████████| 4454/4454 [00:08<00:00, 521.02it/s]\n"
     ]
    },
    {
     "name": "stdout",
     "output_type": "stream",
     "text": [
      "iter 22: training loss=0.12614036695544492, validation loss=0.30111449436178106\n",
      "\n",
      "training...\n"
     ]
    },
    {
     "name": "stderr",
     "output_type": "stream",
     "text": [
      "100%|█████████████████████████████████████████| 4454/4454 [00:35<00:00, 124.39it/s]\n"
     ]
    },
    {
     "name": "stdout",
     "output_type": "stream",
     "text": [
      "validating...\n"
     ]
    },
    {
     "name": "stderr",
     "output_type": "stream",
     "text": [
      "100%|█████████████████████████████████████████| 4454/4454 [00:09<00:00, 476.80it/s]\n"
     ]
    },
    {
     "name": "stdout",
     "output_type": "stream",
     "text": [
      "iter 23: training loss=0.1224002966679602, validation loss=0.2831491658408245\n",
      "\n",
      "training...\n"
     ]
    },
    {
     "name": "stderr",
     "output_type": "stream",
     "text": [
      "100%|█████████████████████████████████████████| 4454/4454 [00:36<00:00, 122.82it/s]\n"
     ]
    },
    {
     "name": "stdout",
     "output_type": "stream",
     "text": [
      "validating...\n"
     ]
    },
    {
     "name": "stderr",
     "output_type": "stream",
     "text": [
      "100%|█████████████████████████████████████████| 4454/4454 [00:08<00:00, 507.35it/s]\n"
     ]
    },
    {
     "name": "stdout",
     "output_type": "stream",
     "text": [
      "iter 24: training loss=0.11761753275689595, validation loss=0.2721188021249071\n",
      "\n",
      "training...\n"
     ]
    },
    {
     "name": "stderr",
     "output_type": "stream",
     "text": [
      "100%|█████████████████████████████████████████| 4454/4454 [00:37<00:00, 119.29it/s]\n"
     ]
    },
    {
     "name": "stdout",
     "output_type": "stream",
     "text": [
      "validating...\n"
     ]
    },
    {
     "name": "stderr",
     "output_type": "stream",
     "text": [
      "100%|█████████████████████████████████████████| 4454/4454 [00:10<00:00, 441.47it/s]\n"
     ]
    },
    {
     "name": "stdout",
     "output_type": "stream",
     "text": [
      "iter 25: training loss=0.11478977146942995, validation loss=0.26083441847837774\n",
      "\n",
      "training...\n"
     ]
    },
    {
     "name": "stderr",
     "output_type": "stream",
     "text": [
      "100%|█████████████████████████████████████████| 4454/4454 [00:40<00:00, 110.52it/s]\n"
     ]
    },
    {
     "name": "stdout",
     "output_type": "stream",
     "text": [
      "validating...\n"
     ]
    },
    {
     "name": "stderr",
     "output_type": "stream",
     "text": [
      "100%|█████████████████████████████████████████| 4454/4454 [00:09<00:00, 476.26it/s]\n"
     ]
    },
    {
     "name": "stdout",
     "output_type": "stream",
     "text": [
      "iter 26: training loss=0.11273673193409645, validation loss=0.25255259348456827\n",
      "\n",
      "training...\n"
     ]
    },
    {
     "name": "stderr",
     "output_type": "stream",
     "text": [
      "100%|█████████████████████████████████████████| 4454/4454 [00:38<00:00, 116.22it/s]\n"
     ]
    },
    {
     "name": "stdout",
     "output_type": "stream",
     "text": [
      "validating...\n"
     ]
    },
    {
     "name": "stderr",
     "output_type": "stream",
     "text": [
      "100%|█████████████████████████████████████████| 4454/4454 [00:09<00:00, 465.17it/s]\n"
     ]
    },
    {
     "name": "stdout",
     "output_type": "stream",
     "text": [
      "iter 27: training loss=0.11059025516295466, validation loss=0.24664432732290886\n",
      "\n",
      "training...\n"
     ]
    },
    {
     "name": "stderr",
     "output_type": "stream",
     "text": [
      "100%|█████████████████████████████████████████| 4454/4454 [00:36<00:00, 122.73it/s]\n"
     ]
    },
    {
     "name": "stdout",
     "output_type": "stream",
     "text": [
      "validating...\n"
     ]
    },
    {
     "name": "stderr",
     "output_type": "stream",
     "text": [
      "100%|█████████████████████████████████████████| 4454/4454 [00:10<00:00, 423.08it/s]\n"
     ]
    },
    {
     "name": "stdout",
     "output_type": "stream",
     "text": [
      "iter 28: training loss=0.10769534905699969, validation loss=0.2415355773794373\n",
      "\n",
      "training...\n"
     ]
    },
    {
     "name": "stderr",
     "output_type": "stream",
     "text": [
      "100%|█████████████████████████████████████████| 4454/4454 [00:37<00:00, 118.31it/s]\n"
     ]
    },
    {
     "name": "stdout",
     "output_type": "stream",
     "text": [
      "validating...\n"
     ]
    },
    {
     "name": "stderr",
     "output_type": "stream",
     "text": [
      "100%|█████████████████████████████████████████| 4454/4454 [00:08<00:00, 531.17it/s]\n"
     ]
    },
    {
     "name": "stdout",
     "output_type": "stream",
     "text": [
      "iter 29: training loss=0.1051659430246499, validation loss=0.24275661426686437\n",
      "\n",
      "training...\n"
     ]
    },
    {
     "name": "stderr",
     "output_type": "stream",
     "text": [
      "100%|█████████████████████████████████████████| 4454/4454 [00:37<00:00, 119.61it/s]\n"
     ]
    },
    {
     "name": "stdout",
     "output_type": "stream",
     "text": [
      "validating...\n"
     ]
    },
    {
     "name": "stderr",
     "output_type": "stream",
     "text": [
      "100%|█████████████████████████████████████████| 4454/4454 [00:08<00:00, 535.49it/s]\n"
     ]
    },
    {
     "name": "stdout",
     "output_type": "stream",
     "text": [
      "iter 30: training loss=0.10474874216071646, validation loss=0.23329253488661314\n",
      "\n",
      "training...\n"
     ]
    },
    {
     "name": "stderr",
     "output_type": "stream",
     "text": [
      "100%|█████████████████████████████████████████| 4454/4454 [00:34<00:00, 130.64it/s]\n"
     ]
    },
    {
     "name": "stdout",
     "output_type": "stream",
     "text": [
      "validating...\n"
     ]
    },
    {
     "name": "stderr",
     "output_type": "stream",
     "text": [
      "100%|█████████████████████████████████████████| 4454/4454 [00:09<00:00, 474.78it/s]\n"
     ]
    },
    {
     "name": "stdout",
     "output_type": "stream",
     "text": [
      "iter 31: training loss=0.10278402832458, validation loss=0.23106560617694258\n",
      "\n",
      "training...\n"
     ]
    },
    {
     "name": "stderr",
     "output_type": "stream",
     "text": [
      "100%|█████████████████████████████████████████| 4454/4454 [00:41<00:00, 107.13it/s]\n"
     ]
    },
    {
     "name": "stdout",
     "output_type": "stream",
     "text": [
      "validating...\n"
     ]
    },
    {
     "name": "stderr",
     "output_type": "stream",
     "text": [
      "100%|█████████████████████████████████████████| 4454/4454 [00:08<00:00, 525.23it/s]\n"
     ]
    },
    {
     "name": "stdout",
     "output_type": "stream",
     "text": [
      "iter 32: training loss=0.10146667064177178, validation loss=0.2299151933998553\n",
      "\n",
      "training...\n"
     ]
    },
    {
     "name": "stderr",
     "output_type": "stream",
     "text": [
      "100%|█████████████████████████████████████████| 4454/4454 [00:35<00:00, 125.76it/s]\n"
     ]
    },
    {
     "name": "stdout",
     "output_type": "stream",
     "text": [
      "validating...\n"
     ]
    },
    {
     "name": "stderr",
     "output_type": "stream",
     "text": [
      "100%|█████████████████████████████████████████| 4454/4454 [00:08<00:00, 513.67it/s]\n"
     ]
    },
    {
     "name": "stdout",
     "output_type": "stream",
     "text": [
      "iter 33: training loss=0.10009242648168475, validation loss=0.22393614631051706\n",
      "\n",
      "training...\n"
     ]
    },
    {
     "name": "stderr",
     "output_type": "stream",
     "text": [
      "100%|█████████████████████████████████████████| 4454/4454 [00:42<00:00, 104.68it/s]\n"
     ]
    },
    {
     "name": "stdout",
     "output_type": "stream",
     "text": [
      "validating...\n"
     ]
    },
    {
     "name": "stderr",
     "output_type": "stream",
     "text": [
      "100%|█████████████████████████████████████████| 4454/4454 [00:08<00:00, 495.28it/s]\n"
     ]
    },
    {
     "name": "stdout",
     "output_type": "stream",
     "text": [
      "iter 34: training loss=0.09935526418999184, validation loss=0.21616008139706488\n",
      "\n",
      "training...\n"
     ]
    },
    {
     "name": "stderr",
     "output_type": "stream",
     "text": [
      "100%|█████████████████████████████████████████| 4454/4454 [00:37<00:00, 117.68it/s]\n"
     ]
    },
    {
     "name": "stdout",
     "output_type": "stream",
     "text": [
      "validating...\n"
     ]
    },
    {
     "name": "stderr",
     "output_type": "stream",
     "text": [
      "100%|█████████████████████████████████████████| 4454/4454 [00:08<00:00, 536.63it/s]\n"
     ]
    },
    {
     "name": "stdout",
     "output_type": "stream",
     "text": [
      "iter 35: training loss=0.09922050018739424, validation loss=0.21271363759797474\n",
      "\n",
      "training...\n"
     ]
    },
    {
     "name": "stderr",
     "output_type": "stream",
     "text": [
      "100%|█████████████████████████████████████████| 4454/4454 [00:35<00:00, 125.48it/s]\n"
     ]
    },
    {
     "name": "stdout",
     "output_type": "stream",
     "text": [
      "validating...\n"
     ]
    },
    {
     "name": "stderr",
     "output_type": "stream",
     "text": [
      "100%|█████████████████████████████████████████| 4454/4454 [00:09<00:00, 481.67it/s]\n"
     ]
    },
    {
     "name": "stdout",
     "output_type": "stream",
     "text": [
      "iter 36: training loss=0.0970301750520864, validation loss=0.21189431844516404\n",
      "\n",
      "training...\n"
     ]
    },
    {
     "name": "stderr",
     "output_type": "stream",
     "text": [
      "100%|█████████████████████████████████████████| 4454/4454 [00:34<00:00, 128.02it/s]\n"
     ]
    },
    {
     "name": "stdout",
     "output_type": "stream",
     "text": [
      "validating...\n"
     ]
    },
    {
     "name": "stderr",
     "output_type": "stream",
     "text": [
      "100%|█████████████████████████████████████████| 4454/4454 [00:08<00:00, 516.02it/s]\n"
     ]
    },
    {
     "name": "stdout",
     "output_type": "stream",
     "text": [
      "iter 37: training loss=0.09698386388106525, validation loss=0.20724874349713457\n",
      "\n",
      "training...\n"
     ]
    },
    {
     "name": "stderr",
     "output_type": "stream",
     "text": [
      "100%|█████████████████████████████████████████| 4454/4454 [00:34<00:00, 130.35it/s]\n"
     ]
    },
    {
     "name": "stdout",
     "output_type": "stream",
     "text": [
      "validating...\n"
     ]
    },
    {
     "name": "stderr",
     "output_type": "stream",
     "text": [
      "100%|█████████████████████████████████████████| 4454/4454 [00:08<00:00, 503.33it/s]\n"
     ]
    },
    {
     "name": "stdout",
     "output_type": "stream",
     "text": [
      "iter 38: training loss=0.0958092597005433, validation loss=0.20777309742345126\n",
      "\n",
      "training...\n"
     ]
    },
    {
     "name": "stderr",
     "output_type": "stream",
     "text": [
      "100%|█████████████████████████████████████████| 4454/4454 [00:36<00:00, 120.43it/s]\n"
     ]
    },
    {
     "name": "stdout",
     "output_type": "stream",
     "text": [
      "validating...\n"
     ]
    },
    {
     "name": "stderr",
     "output_type": "stream",
     "text": [
      "100%|█████████████████████████████████████████| 4454/4454 [00:08<00:00, 541.45it/s]\n"
     ]
    },
    {
     "name": "stdout",
     "output_type": "stream",
     "text": [
      "iter 39: training loss=0.09558831681568489, validation loss=0.20272552314476616\n",
      "\n",
      "training...\n"
     ]
    },
    {
     "name": "stderr",
     "output_type": "stream",
     "text": [
      "100%|█████████████████████████████████████████| 4454/4454 [00:37<00:00, 118.44it/s]\n"
     ]
    },
    {
     "name": "stdout",
     "output_type": "stream",
     "text": [
      "validating...\n"
     ]
    },
    {
     "name": "stderr",
     "output_type": "stream",
     "text": [
      "100%|█████████████████████████████████████████| 4454/4454 [00:08<00:00, 500.00it/s]\n"
     ]
    },
    {
     "name": "stdout",
     "output_type": "stream",
     "text": [
      "iter 40: training loss=0.0950570256003067, validation loss=0.21080071772485506\n",
      "\n",
      "training...\n"
     ]
    },
    {
     "name": "stderr",
     "output_type": "stream",
     "text": [
      "100%|█████████████████████████████████████████| 4454/4454 [00:35<00:00, 124.79it/s]\n"
     ]
    },
    {
     "name": "stdout",
     "output_type": "stream",
     "text": [
      "validating...\n"
     ]
    },
    {
     "name": "stderr",
     "output_type": "stream",
     "text": [
      "100%|█████████████████████████████████████████| 4454/4454 [00:08<00:00, 519.70it/s]\n"
     ]
    },
    {
     "name": "stdout",
     "output_type": "stream",
     "text": [
      "iter 41: training loss=0.09504774448553416, validation loss=0.2093686984077013\n",
      "\n",
      "training...\n"
     ]
    },
    {
     "name": "stderr",
     "output_type": "stream",
     "text": [
      "100%|█████████████████████████████████████████| 4454/4454 [00:36<00:00, 122.84it/s]\n"
     ]
    },
    {
     "name": "stdout",
     "output_type": "stream",
     "text": [
      "validating...\n"
     ]
    },
    {
     "name": "stderr",
     "output_type": "stream",
     "text": [
      "100%|█████████████████████████████████████████| 4454/4454 [00:08<00:00, 532.90it/s]\n"
     ]
    },
    {
     "name": "stdout",
     "output_type": "stream",
     "text": [
      "iter 42: training loss=0.09445019559857369, validation loss=0.20847767490614091\n",
      "\n"
     ]
    }
   ],
   "source": [
    "\"\"\"\n",
    "PIR_Trainer\n",
    "\"\"\"\n",
    "\n",
    "import torch.optim as optim\n",
    "from torch.nn import BCEWithLogitsLoss\n",
    "from tqdm import tqdm\n",
    "import random\n",
    "import os\n",
    "\n",
    "ITER = 1000\n",
    "torch.manual_seed(66)\n",
    "random.seed(66)\n",
    "checkpoint_dir = \"../model/\"\n",
    "dataset = PIR_Dataset(train_file, 0.1)\n",
    "model = PIR_Model(dataset.num_users, dataset.num_items, 64)\n",
    "loss_func = BPR_Loss()\n",
    "# loss_func = BCEWithLogitsLoss()\n",
    "optimizer = optim.Adam([model.user_matrix, model.item_matrix], lr=1e-3, weight_decay=1e-6)\n",
    "\n",
    "prev_valid_loss = 100000\n",
    "valid_tolerance = 3\n",
    "idxs = [i for i in range(len(dataset))]\n",
    "\n",
    "\n",
    "for i in range(ITER):\n",
    "    if valid_tolerance == 0:\n",
    "        break\n",
    "    train_loss = 0\n",
    "    valid_loss = 0\n",
    "    random.shuffle(idxs)\n",
    "    dataset.set_is_train(True)\n",
    "    print(\"training...\")\n",
    "    for uid in tqdm(idxs):\n",
    "        optimizer.zero_grad()\n",
    "        s1, s2, target = dataset[uid]\n",
    "        output = model(uid, s1, s2)\n",
    "        loss = loss_func(output, target)\n",
    "        loss.backward()\n",
    "        train_loss += loss.item()\n",
    "        optimizer.step()\n",
    "    train_MAP = calc_score(dataset, model)\n",
    "    print(\"validating...\")\n",
    "    dataset.set_is_train(False)\n",
    "    for uid in tqdm(idxs):\n",
    "        with torch.no_grad():\n",
    "            s1, s2, target = dataset[uid]\n",
    "            output = model(uid, s1, s2)\n",
    "            loss = loss_func(output, target)\n",
    "            valid_loss += loss.item()\n",
    "    valid_MAP = calc_score(dataset, model)\n",
    "    print(\"iter {}: training loss={:6.4f}, MAP={:6.4f}; validation loss={:6.4f}, MAP={:6.4f}\\n\" \\\n",
    "          .format(i, train_loss/len(idxs), train_MAP, valid_loss/len(idxs), valid_MAP))\n",
    "    if valid_loss < prev_valid_loss:\n",
    "        if prev_valid_loss != 100000:\n",
    "            os.remove(\"{}user{:8.6f}.pt\".format(checkpoint_dir, prev_valid_loss/len(idxs)))\n",
    "            os.remove(\"{}item{:8.6f}.pt\".format(checkpoint_dir, prev_valid_loss/len(idxs)))\n",
    "        torch.save(model.user_matrix, \"{}user{:8.6f}.pt\".format(checkpoint_dir, valid_loss/len(idxs)))\n",
    "        torch.save(model.item_matrix, \"{}item{:8.6f}.pt\".format(checkpoint_dir, valid_loss/len(idxs)))\n",
    "        prev_valid_loss = valid_loss\n",
    "        valid_tolerance = 3\n",
    "    else:\n",
    "        valid_tolerance -= 1\n"
   ]
  },
  {
   "cell_type": "code",
   "execution_count": 48,
   "metadata": {},
   "outputs": [
    {
     "name": "stdout",
     "output_type": "stream",
     "text": [
      "180570 222700\n"
     ]
    }
   ],
   "source": [
    "\"\"\"\n",
    "Evaluate and Test\n",
    "\"\"\"\n",
    "\n",
    "import numpy as np\n",
    "\n",
    "output_file = \"../outputs/out.csv\"\n",
    "user_file = [\"../model/user0.196863.pt\", \"../model/user0.199941.pt\"]\n",
    "item_file = [\"../model/item0.196863.pt\", \"../model/item0.199941.pt\"]\n",
    "model = PIR_Model(dataset.num_users, dataset.num_items)\n",
    "matrix = np.zeros((dataset.num_users, dataset.num_items))\n",
    "for f1, f2 in zip(user_file, item_file):\n",
    "    matrix += torch.matmul(torch.load(f1), torch.load(f2)).cpu().detach().numpy()\n",
    "sum_true_pos = 0\n",
    "sum_poss_pos = 0\n",
    "\n",
    "with open(output_file, \"w\") as f:\n",
    "    f.write(\"UserId,ItemId\\n\")\n",
    "#     matrix = torch.matmul(model.user_matrix, model.item_matrix).cpu().detach().numpy()\n",
    "    for i, row in enumerate(matrix):\n",
    "        f.write(\"{},\".format(i))\n",
    "        rank = np.flip(np.argsort(row))\n",
    "        pos_set = set(dataset.train_lists[i]+dataset.valid_lists[i])\n",
    "        n_recom = 50\n",
    "        sum_poss_pos += n_recom\n",
    "        for idx in rank:\n",
    "            if n_recom == 0:\n",
    "                break\n",
    "            if idx not in pos_set:\n",
    "                n_recom -= 1\n",
    "                f.write(\"{} \".format(idx))\n",
    "            else:\n",
    "                sum_true_pos += 1\n",
    "                \n",
    "        f.write(\"\\n\")            \n",
    "print(sum_true_pos, sum_poss_pos)"
   ]
  },
  {
   "cell_type": "code",
   "execution_count": null,
   "metadata": {},
   "outputs": [],
   "source": [
    "\"\"\"\n",
    "Test optimizing ability after indexing the tensor\n",
    "\"\"\"\n",
    "\n",
    "import torch\n",
    "import torch.nn as nn\n",
    "import torch.optim as optim\n",
    "\n",
    "loss = nn.BCEWithLogitsLoss()\n",
    "input_prev = torch.tensor([[1.0,1.0,0.0,0.0,1.0,1.0], [1.0,1.0,0.0,0.0,1.0,1.0]], requires_grad=True)\n",
    "optimizer = optim.Adam([input_prev], lr=0.0001)\n",
    "\n",
    "input = input_prev[[[0,0,0], [0,3,4]]]\n",
    "target = torch.empty(3).random_(2)\n",
    "\n",
    "print(input_prev)\n",
    "print(input)\n",
    "print(target)\n",
    "\n",
    "output = loss(input, target)\n",
    "output.backward()\n",
    "optimizer.step()\n",
    "\n",
    "print(input_prev)\n",
    "print(input)\n",
    "print(target)\n",
    "print(output)"
   ]
  },
  {
   "cell_type": "code",
   "execution_count": null,
   "metadata": {},
   "outputs": [],
   "source": []
  }
 ],
 "metadata": {
  "kernelspec": {
   "display_name": "Python 3",
   "language": "python",
   "name": "python3"
  },
  "language_info": {
   "codemirror_mode": {
    "name": "ipython",
    "version": 3
   },
   "file_extension": ".py",
   "mimetype": "text/x-python",
   "name": "python",
   "nbconvert_exporter": "python",
   "pygments_lexer": "ipython3",
   "version": "3.7.4"
  }
 },
 "nbformat": 4,
 "nbformat_minor": 2
}
